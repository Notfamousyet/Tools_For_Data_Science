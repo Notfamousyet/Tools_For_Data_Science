{
 "cells": [
  {
   "cell_type": "markdown",
   "id": "b457e7e2-f45e-4b59-9323-74f556ff4947",
   "metadata": {},
   "source": [
    "# Data Science Tools and Ecosystem"
   ]
  },
  {
   "cell_type": "markdown",
   "id": "2e419700",
   "metadata": {},
   "source": [
    "In this notebook, Data Science Tools and Ecosystem are summarized."
   ]
  },
  {
   "cell_type": "markdown",
   "id": "eb3bc763",
   "metadata": {},
   "source": [
    "Some of the popular languages that Data Scientists use are:\n",
    "\n",
    "1.Python\n",
    "\n",
    "2.C/C++\n",
    "\n",
    "3.Java"
   ]
  },
  {
   "cell_type": "markdown",
   "id": "a06f7050",
   "metadata": {},
   "source": [
    "Some of the commonly used libraries used by Data Scientists include:\n",
    "\n",
    "1.NumPy\n",
    "\n",
    "2.Keras\n",
    "\n",
    "3.Pandas\n",
    "\n",
    "4.PyTorch\n",
    "\n",
    "5.SciPy"
   ]
  },
  {
   "cell_type": "markdown",
   "id": "cf66a2d3",
   "metadata": {},
   "source": [
    "|Data Science Tools|\n",
    "|---|\n",
    "|SAS|\n",
    "|Apache Hadoop|\n",
    "|Tenserflow|"
   ]
  },
  {
   "cell_type": "markdown",
   "id": "7afa5e53",
   "metadata": {},
   "source": [
    "### Below are a few examples of evaluating arithmetic expressions in Python"
   ]
  },
  {
   "cell_type": "code",
   "execution_count": 2,
   "id": "17caece5",
   "metadata": {},
   "outputs": [
    {
     "data": {
      "text/plain": [
       "17"
      ]
     },
     "execution_count": 2,
     "metadata": {},
     "output_type": "execute_result"
    }
   ],
   "source": [
    "#This a simple arithmetic expression to mutiply then add integers\n",
    "(3*4)+5"
   ]
  },
  {
   "cell_type": "code",
   "execution_count": 3,
   "id": "adaad362",
   "metadata": {},
   "outputs": [
    {
     "data": {
      "text/plain": [
       "3.3333333333333335"
      ]
     },
     "execution_count": 3,
     "metadata": {},
     "output_type": "execute_result"
    }
   ],
   "source": [
    "#This will convert 200 minutes to hours by diving by 60\n",
    "200/60"
   ]
  },
  {
   "cell_type": "markdown",
   "id": "5ad9a5f6",
   "metadata": {},
   "source": [
    "__Objective__\n",
    "\n",
    "∎ list popular languages for data science\n",
    "\n",
    "∎ list popular libraries for data science\n",
    "\n",
    "∎list of well known data science tools\n",
    "\n",
    "∎ how to provide comments in the cell"
   ]
  },
  {
   "cell_type": "markdown",
   "id": "5af98316",
   "metadata": {},
   "source": [
    "## Author\n",
    "Shreya Sanjay Pawale"
   ]
  }
 ],
 "metadata": {
  "kernelspec": {
   "display_name": "Python 3 (ipykernel)",
   "language": "python",
   "name": "python3"
  },
  "language_info": {
   "codemirror_mode": {
    "name": "ipython",
    "version": 3
   },
   "file_extension": ".py",
   "mimetype": "text/x-python",
   "name": "python",
   "nbconvert_exporter": "python",
   "pygments_lexer": "ipython3",
   "version": "3.11.5"
  }
 },
 "nbformat": 4,
 "nbformat_minor": 5
}
